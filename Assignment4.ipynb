{
 "cells": [
  {
   "cell_type": "code",
   "execution_count": null,
   "id": "76da04b0-7125-460e-b14e-294b3edf85b7",
   "metadata": {},
   "outputs": [],
   "source": [
    "# Q.1\n",
    "def keyword used to create a function."
   ]
  },
  {
   "cell_type": "code",
   "execution_count": 19,
   "id": "10ae4c0f-6dbc-404c-aff8-f6b13424ae86",
   "metadata": {},
   "outputs": [
    {
     "name": "stdout",
     "output_type": "stream",
     "text": [
      "1 3 5 7 9 11 13 15 17 19 21 23 25 "
     ]
    }
   ],
   "source": [
    "def odd(a,b):\n",
    "    if a>b:\n",
    "        return\n",
    "    if a&1:\n",
    "        print(a,end=\" \")\n",
    "        return odd(a+2,b)\n",
    "    else:\n",
    "        return odd(a+1,b)\n",
    "a=1;b=25\n",
    "odd(a,b)"
   ]
  },
  {
   "cell_type": "code",
   "execution_count": null,
   "id": "a9d7ddd5-8121-430d-8973-92b0f792beea",
   "metadata": {},
   "outputs": [],
   "source": [
    "#Q.2\n",
    "We use *args and **kwargs as an argument when we are\n",
    "unsure about the number of arguments to pass in the functions."
   ]
  },
  {
   "cell_type": "code",
   "execution_count": 21,
   "id": "806e5ddf-4d79-4f10-8ad0-4c63fb4f3217",
   "metadata": {},
   "outputs": [],
   "source": [
    "def test(*args,a):\n",
    "    return args, a"
   ]
  },
  {
   "cell_type": "code",
   "execution_count": 22,
   "id": "3e2e2cb5-9d6e-4941-aea5-d324cdc7cea0",
   "metadata": {},
   "outputs": [
    {
     "data": {
      "text/plain": [
       "((1, 2, 3, 4), 23)"
      ]
     },
     "execution_count": 22,
     "metadata": {},
     "output_type": "execute_result"
    }
   ],
   "source": [
    "test(1,2,3,4, a = 23)"
   ]
  },
  {
   "cell_type": "code",
   "execution_count": 24,
   "id": "f340d9e6-dda2-405d-8698-cfb6c425fc31",
   "metadata": {},
   "outputs": [],
   "source": [
    "def test1(**kwargs):\n",
    "    return kwargs"
   ]
  },
  {
   "cell_type": "code",
   "execution_count": 25,
   "id": "b767c8e3-4f9f-4459-8cac-05f641af526a",
   "metadata": {},
   "outputs": [
    {
     "data": {
      "text/plain": [
       "{'a': [1, 2, 3, 4], 'b': 'umesh', 'c': 28}"
      ]
     },
     "execution_count": 25,
     "metadata": {},
     "output_type": "execute_result"
    }
   ],
   "source": [
    "test1(a= [1,2,3,4], b= \"umesh\", c = 28)"
   ]
  },
  {
   "cell_type": "code",
   "execution_count": null,
   "id": "89c1fa35-af64-4460-b2e5-ffe2985617dd",
   "metadata": {},
   "outputs": [],
   "source": [
    "#Q.3\n",
    "Iterator in Python is an object that is used to iterate over iterable objects like lists,\n",
    "tuples, dicts, and sets. The iterator object is initialized using the iter() method.\n",
    "It uses the next() method for iteration. __next__():"
   ]
  },
  {
   "cell_type": "code",
   "execution_count": 26,
   "id": "303c4553-77d0-4e66-919d-73910098ac19",
   "metadata": {},
   "outputs": [],
   "source": [
    "l =[2,4,6,8,10,12,14,16,18,20]"
   ]
  },
  {
   "cell_type": "code",
   "execution_count": 43,
   "id": "35ee9d40-c129-48df-b363-81c4e6e9bd98",
   "metadata": {},
   "outputs": [
    {
     "name": "stdout",
     "output_type": "stream",
     "text": [
      "2\n",
      "4\n",
      "6\n",
      "8\n",
      "10\n"
     ]
    }
   ],
   "source": [
    "length = len(l[0:5])\n",
    "for i in range(length):\n",
    "        print(l[i])"
   ]
  },
  {
   "cell_type": "code",
   "execution_count": null,
   "id": "1627b63b-d019-4897-9f80-e5bca727b9eb",
   "metadata": {},
   "outputs": [],
   "source": [
    "#Q.4\n",
    "Generator function:-In Python, a generator is a function that returns an iterator that produces a sequence of\n",
    "values when iterated over.\n",
    "yield keyword is used to create a generator function."
   ]
  },
  {
   "cell_type": "code",
   "execution_count": 1,
   "id": "2025ab9d-2e13-419a-9c39-6a805be3cab4",
   "metadata": {},
   "outputs": [
    {
     "name": "stdout",
     "output_type": "stream",
     "text": [
      "0\n",
      "1\n",
      "4\n",
      "9\n",
      "16\n"
     ]
    }
   ],
   "source": [
    "squares_generator = (i * i for i in range(5))\n",
    "for i in squares_generator:\n",
    "    print(i)"
   ]
  },
  {
   "cell_type": "code",
   "execution_count": 16,
   "id": "fbc7b333-6ae2-400f-b882-611d5402c22b",
   "metadata": {},
   "outputs": [
    {
     "name": "stdout",
     "output_type": "stream",
     "text": [
      "0 is a prime number!\n",
      "1 is a prime number!\n"
     ]
    }
   ],
   "source": [
    "#Q.5\n",
    "for num in range(1000):\n",
    "    if num > 1:\n",
    "        for i in range(2,num):\n",
    "            if (num % i) == 0:\n",
    "                break\n",
    "    else:\n",
    "           print(num,\"is a prime number!\")"
   ]
  },
  {
   "cell_type": "code",
   "execution_count": 17,
   "id": "539097c8-5e1f-48aa-93f3-4ac7971c8f3f",
   "metadata": {},
   "outputs": [
    {
     "name": "stdin",
     "output_type": "stream",
     "text": [
      "enter your number  10\n"
     ]
    },
    {
     "name": "stdout",
     "output_type": "stream",
     "text": [
      "0\n",
      "1\n",
      "1\n",
      "2\n",
      "3\n",
      "5\n",
      "8\n",
      "13\n",
      "21\n",
      "34\n"
     ]
    }
   ],
   "source": [
    "#Q.6\n",
    "number =  int(input(\"enter your number \"))\n",
    "a , b = 0 , 1\n",
    "counter = 0\n",
    "while counter < number :\n",
    "    print(a)\n",
    "    c = a+b\n",
    "    a = b\n",
    "    b = c\n",
    "    counter = counter+1"
   ]
  },
  {
   "cell_type": "code",
   "execution_count": 28,
   "id": "32ba525e-7f3b-4cda-a2e0-0f3b6a459983",
   "metadata": {},
   "outputs": [
    {
     "name": "stdout",
     "output_type": "stream",
     "text": [
      "['P', 'W', 'S', 'K', 'I', 'L', 'L', 'S']\n"
     ]
    }
   ],
   "source": [
    "#Q.7\n",
    "h_letters = [ i.upper() for i in 'pwskills' ]\n",
    "print( h_letters)"
   ]
  },
  {
   "cell_type": "code",
   "execution_count": 30,
   "id": "6c7f26af-3ef4-4865-9ce2-1498a5cdffd8",
   "metadata": {},
   "outputs": [
    {
     "name": "stdin",
     "output_type": "stream",
     "text": [
      "Enter any number: 131\n"
     ]
    },
    {
     "name": "stdout",
     "output_type": "stream",
     "text": [
      "The 131 number is palindrome!\n"
     ]
    }
   ],
   "source": [
    "#Q.8\n",
    "num=int(input(\"Enter any number:\"))\n",
    "temp=num\n",
    "rev=0\n",
    "while(num>0):\n",
    "    dig=num%10\n",
    "    rev=rev*10+dig\n",
    "    num=num//10\n",
    "if(temp==rev):\n",
    "    print(\"The {0} number is palindrome!\".format(temp))\n",
    "else:\n",
    "    print(\"Not a palindrome!\")\n"
   ]
  },
  {
   "cell_type": "code",
   "execution_count": 32,
   "id": "b4af5d19-162d-4e55-b2e3-74128d2e93e5",
   "metadata": {},
   "outputs": [
    {
     "data": {
      "text/plain": [
       "[1,\n",
       " 3,\n",
       " 5,\n",
       " 7,\n",
       " 9,\n",
       " 11,\n",
       " 13,\n",
       " 15,\n",
       " 17,\n",
       " 19,\n",
       " 21,\n",
       " 23,\n",
       " 25,\n",
       " 27,\n",
       " 29,\n",
       " 31,\n",
       " 33,\n",
       " 35,\n",
       " 37,\n",
       " 39,\n",
       " 41,\n",
       " 43,\n",
       " 45,\n",
       " 47,\n",
       " 49,\n",
       " 51,\n",
       " 53,\n",
       " 55,\n",
       " 57,\n",
       " 59,\n",
       " 61,\n",
       " 63,\n",
       " 65,\n",
       " 67,\n",
       " 69,\n",
       " 71,\n",
       " 73,\n",
       " 75,\n",
       " 77,\n",
       " 79,\n",
       " 81,\n",
       " 83,\n",
       " 85,\n",
       " 87,\n",
       " 89,\n",
       " 91,\n",
       " 93,\n",
       " 95,\n",
       " 97,\n",
       " 99]"
      ]
     },
     "execution_count": 32,
     "metadata": {},
     "output_type": "execute_result"
    }
   ],
   "source": [
    "#q.9\n",
    "[ i for i in range(100) if i%2 !=0]"
   ]
  },
  {
   "cell_type": "code",
   "execution_count": null,
   "id": "07a37daf-a85e-4a62-9863-eaf4aecd83a4",
   "metadata": {},
   "outputs": [],
   "source": []
  }
 ],
 "metadata": {
  "kernelspec": {
   "display_name": "Python 3 (ipykernel)",
   "language": "python",
   "name": "python3"
  },
  "language_info": {
   "codemirror_mode": {
    "name": "ipython",
    "version": 3
   },
   "file_extension": ".py",
   "mimetype": "text/x-python",
   "name": "python",
   "nbconvert_exporter": "python",
   "pygments_lexer": "ipython3",
   "version": "3.10.8"
  }
 },
 "nbformat": 4,
 "nbformat_minor": 5
}
